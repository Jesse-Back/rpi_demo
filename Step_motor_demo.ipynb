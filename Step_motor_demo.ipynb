{
 "cells": [
  {
   "cell_type": "code",
   "execution_count": 1,
   "metadata": {
    "collapsed": true
   },
   "outputs": [],
   "source": [
    "# 라이브러리 import\n",
    "from Adafruit_MotorHAT import Adafruit_MotorHAT, Adafruit_DCMotor, Adafruit_StepperMotor\n",
    "import time\n",
    "import atexit"
   ]
  },
  {
   "cell_type": "code",
   "execution_count": 55,
   "metadata": {
    "collapsed": true
   },
   "outputs": [],
   "source": [
    "# 기본 객체 생성, 연결하면 기본 주소값은 0x60 이며 주파수 기본값은 1600이다\n",
    "# 이전에  0x60 0x70 두개가 인식되었었는데 60은 장치에 대한 unique한 값이고\n",
    "# 70은 연결전체를 제어하기 위한 값이다(여러 모듈을 연결할 경우)\n",
    "mh = Adafruit_MotorHAT(addr=0x60,freq=1600)"
   ]
  },
  {
   "cell_type": "code",
   "execution_count": 56,
   "metadata": {
    "collapsed": false
   },
   "outputs": [
    {
     "data": {
      "text/plain": [
       "<function __main__.turnOffMotors>"
      ]
     },
     "execution_count": 56,
     "metadata": {},
     "output_type": "execute_result"
    }
   ],
   "source": [
    "# Stepping 모터만 연결할 경우 총 2개까지 연결 할 수 있는데 연결 방법은\n",
    "# 이미지를 참조하기 바란다.\n",
    "# 좌측부터 4개씩 port 1,2번으로 제어 할 수 있다.\n",
    "# 한 블럭의 소켓들 중 가운데 소켓은 사용하지 않는다\n",
    "# 아래는 DC모터의 경우 코드가 종료되더라도 지속되기 때문에 \n",
    "# 코드가 종료 되었을 때 정지시키위한 코드이다\n",
    "def turnOffMotors():\n",
    "\tmh.getMotor(1).run(Adafruit_MotorHAT.RELEASE)\n",
    "\tmh.getMotor(2).run(Adafruit_MotorHAT.RELEASE)\n",
    "\tmh.getMotor(3).run(Adafruit_MotorHAT.RELEASE)\n",
    "\tmh.getMotor(4).run(Adafruit_MotorHAT.RELEASE)\n",
    "atexit.register(turnOffMotors)"
   ]
  },
  {
   "cell_type": "code",
   "execution_count": 57,
   "metadata": {
    "collapsed": true
   },
   "outputs": [],
   "source": [
    "# 200, 회전당 step, motor port #1\n",
    "myStepper = mh.getStepper(200,1)\n",
    "# 60, RPM 분당 회전수\n",
    "myStepper.setSpeed(60)  "
   ]
  },
  {
   "cell_type": "code",
   "execution_count": 64,
   "metadata": {
    "collapsed": false
   },
   "outputs": [
    {
     "name": "stdout",
     "output_type": "stream",
     "text": [
      "0.002  sec per step\n"
     ]
    }
   ],
   "source": [
    "# 이전 DC motor의 run과 비슷한 명령어\n",
    "# myStepper.step(steps, direction, stepstyle)\n",
    "# step : 명령 1회 회전수\n",
    "# direction : 방향 FOWARD와 BACKWARD가 있음\n",
    "# stepstyle : SINGLE, DOUBLE, INTERLEAVED, MICROSTEPPING\n",
    "myStepper.step(200, Adafruit_MotorHAT.BACKWARD, Adafruit_MotorHAT.DOUBLE)"
   ]
  },
  {
   "cell_type": "code",
   "execution_count": 63,
   "metadata": {
    "collapsed": false
   },
   "outputs": [
    {
     "name": "stdout",
     "output_type": "stream",
     "text": [
      "Single coil steps\n",
      "0.002  sec per step\n",
      "0.002  sec per step\n",
      "Double coil steps\n",
      "0.002  sec per step\n",
      "0.002  sec per step\n",
      "Interleaved coil steps\n",
      "0.001  sec per step\n",
      "0.001  sec per step\n",
      "Microsteps\n",
      "0.00025  sec per step\n"
     ]
    },
    {
     "ename": "KeyboardInterrupt",
     "evalue": "",
     "output_type": "error",
     "traceback": [
      "\u001b[1;31m---------------------------------------------------------------------------\u001b[0m",
      "\u001b[1;31mKeyboardInterrupt\u001b[0m                         Traceback (most recent call last)",
      "\u001b[1;32m<ipython-input-63-0fdc22064a14>\u001b[0m in \u001b[0;36m<module>\u001b[1;34m()\u001b[0m\n\u001b[0;32m     11\u001b[0m         \u001b[0mmyStepper\u001b[0m\u001b[1;33m.\u001b[0m\u001b[0mstep\u001b[0m\u001b[1;33m(\u001b[0m\u001b[1;36m200\u001b[0m\u001b[1;33m,\u001b[0m \u001b[0mAdafruit_MotorHAT\u001b[0m\u001b[1;33m.\u001b[0m\u001b[0mBACKWARD\u001b[0m\u001b[1;33m,\u001b[0m \u001b[0mAdafruit_MotorHAT\u001b[0m\u001b[1;33m.\u001b[0m\u001b[0mINTERLEAVE\u001b[0m\u001b[1;33m)\u001b[0m\u001b[1;33m\u001b[0m\u001b[0m\n\u001b[0;32m     12\u001b[0m         \u001b[1;32mprint\u001b[0m\u001b[1;33m(\u001b[0m\u001b[1;34m\"Microsteps\"\u001b[0m\u001b[1;33m)\u001b[0m\u001b[1;33m\u001b[0m\u001b[0m\n\u001b[1;32m---> 13\u001b[1;33m         \u001b[0mmyStepper\u001b[0m\u001b[1;33m.\u001b[0m\u001b[0mstep\u001b[0m\u001b[1;33m(\u001b[0m\u001b[1;36m200\u001b[0m\u001b[1;33m,\u001b[0m \u001b[0mAdafruit_MotorHAT\u001b[0m\u001b[1;33m.\u001b[0m\u001b[0mFORWARD\u001b[0m\u001b[1;33m,\u001b[0m \u001b[0mAdafruit_MotorHAT\u001b[0m\u001b[1;33m.\u001b[0m\u001b[0mMICROSTEP\u001b[0m\u001b[1;33m)\u001b[0m\u001b[1;33m\u001b[0m\u001b[0m\n\u001b[0m\u001b[0;32m     14\u001b[0m         \u001b[0mmyStepper\u001b[0m\u001b[1;33m.\u001b[0m\u001b[0mstep\u001b[0m\u001b[1;33m(\u001b[0m\u001b[1;36m200\u001b[0m\u001b[1;33m,\u001b[0m \u001b[0mAdafruit_MotorHAT\u001b[0m\u001b[1;33m.\u001b[0m\u001b[0mBACKWARD\u001b[0m\u001b[1;33m,\u001b[0m \u001b[0mAdafruit_MotorHAT\u001b[0m\u001b[1;33m.\u001b[0m\u001b[0mMICROSTEP\u001b[0m\u001b[1;33m)\u001b[0m\u001b[1;33m\u001b[0m\u001b[0m\n",
      "\u001b[1;32m/home/pi/adafruit-motor-hat-python-library/Adafruit_MotorHAT/Adafruit_MotorHAT.pyc\u001b[0m in \u001b[0;36mstep\u001b[1;34m(self, steps, direction, stepstyle)\u001b[0m\n\u001b[0;32m    156\u001b[0m \u001b[1;33m\u001b[0m\u001b[0m\n\u001b[0;32m    157\u001b[0m                 \u001b[1;32mfor\u001b[0m \u001b[0ms\u001b[0m \u001b[1;32min\u001b[0m \u001b[0mrange\u001b[0m\u001b[1;33m(\u001b[0m\u001b[0msteps\u001b[0m\u001b[1;33m)\u001b[0m\u001b[1;33m:\u001b[0m\u001b[1;33m\u001b[0m\u001b[0m\n\u001b[1;32m--> 158\u001b[1;33m                         \u001b[0mlateststep\u001b[0m \u001b[1;33m=\u001b[0m \u001b[0mself\u001b[0m\u001b[1;33m.\u001b[0m\u001b[0moneStep\u001b[0m\u001b[1;33m(\u001b[0m\u001b[0mdirection\u001b[0m\u001b[1;33m,\u001b[0m \u001b[0mstepstyle\u001b[0m\u001b[1;33m)\u001b[0m\u001b[1;33m\u001b[0m\u001b[0m\n\u001b[0m\u001b[0;32m    159\u001b[0m                         \u001b[0mtime\u001b[0m\u001b[1;33m.\u001b[0m\u001b[0msleep\u001b[0m\u001b[1;33m(\u001b[0m\u001b[0ms_per_s\u001b[0m\u001b[1;33m)\u001b[0m\u001b[1;33m\u001b[0m\u001b[0m\n\u001b[0;32m    160\u001b[0m \u001b[1;33m\u001b[0m\u001b[0m\n",
      "\u001b[1;32m/home/pi/adafruit-motor-hat-python-library/Adafruit_MotorHAT/Adafruit_MotorHAT.pyc\u001b[0m in \u001b[0;36moneStep\u001b[1;34m(self, dir, style)\u001b[0m\n\u001b[0;32m    137\u001b[0m                 \u001b[1;31m#print \"coils state = \" + str(coils)\u001b[0m\u001b[1;33m\u001b[0m\u001b[1;33m\u001b[0m\u001b[0m\n\u001b[0;32m    138\u001b[0m                 \u001b[0mself\u001b[0m\u001b[1;33m.\u001b[0m\u001b[0mMC\u001b[0m\u001b[1;33m.\u001b[0m\u001b[0msetPin\u001b[0m\u001b[1;33m(\u001b[0m\u001b[0mself\u001b[0m\u001b[1;33m.\u001b[0m\u001b[0mAIN2\u001b[0m\u001b[1;33m,\u001b[0m \u001b[0mcoils\u001b[0m\u001b[1;33m[\u001b[0m\u001b[1;36m0\u001b[0m\u001b[1;33m]\u001b[0m\u001b[1;33m)\u001b[0m\u001b[1;33m\u001b[0m\u001b[0m\n\u001b[1;32m--> 139\u001b[1;33m                 \u001b[0mself\u001b[0m\u001b[1;33m.\u001b[0m\u001b[0mMC\u001b[0m\u001b[1;33m.\u001b[0m\u001b[0msetPin\u001b[0m\u001b[1;33m(\u001b[0m\u001b[0mself\u001b[0m\u001b[1;33m.\u001b[0m\u001b[0mBIN1\u001b[0m\u001b[1;33m,\u001b[0m \u001b[0mcoils\u001b[0m\u001b[1;33m[\u001b[0m\u001b[1;36m1\u001b[0m\u001b[1;33m]\u001b[0m\u001b[1;33m)\u001b[0m\u001b[1;33m\u001b[0m\u001b[0m\n\u001b[0m\u001b[0;32m    140\u001b[0m                 \u001b[0mself\u001b[0m\u001b[1;33m.\u001b[0m\u001b[0mMC\u001b[0m\u001b[1;33m.\u001b[0m\u001b[0msetPin\u001b[0m\u001b[1;33m(\u001b[0m\u001b[0mself\u001b[0m\u001b[1;33m.\u001b[0m\u001b[0mAIN1\u001b[0m\u001b[1;33m,\u001b[0m \u001b[0mcoils\u001b[0m\u001b[1;33m[\u001b[0m\u001b[1;36m2\u001b[0m\u001b[1;33m]\u001b[0m\u001b[1;33m)\u001b[0m\u001b[1;33m\u001b[0m\u001b[0m\n\u001b[0;32m    141\u001b[0m                 \u001b[0mself\u001b[0m\u001b[1;33m.\u001b[0m\u001b[0mMC\u001b[0m\u001b[1;33m.\u001b[0m\u001b[0msetPin\u001b[0m\u001b[1;33m(\u001b[0m\u001b[0mself\u001b[0m\u001b[1;33m.\u001b[0m\u001b[0mBIN2\u001b[0m\u001b[1;33m,\u001b[0m \u001b[0mcoils\u001b[0m\u001b[1;33m[\u001b[0m\u001b[1;36m3\u001b[0m\u001b[1;33m]\u001b[0m\u001b[1;33m)\u001b[0m\u001b[1;33m\u001b[0m\u001b[0m\n",
      "\u001b[1;32m/home/pi/adafruit-motor-hat-python-library/Adafruit_MotorHAT/Adafruit_MotorHAT.pyc\u001b[0m in \u001b[0;36msetPin\u001b[1;34m(self, pin, value)\u001b[0m\n\u001b[0;32m    238\u001b[0m                         \u001b[1;32mraise\u001b[0m \u001b[0mNameError\u001b[0m\u001b[1;33m(\u001b[0m\u001b[1;34m'Pin value must be 0 or 1!'\u001b[0m\u001b[1;33m)\u001b[0m\u001b[1;33m\u001b[0m\u001b[0m\n\u001b[0;32m    239\u001b[0m                 \u001b[1;32mif\u001b[0m \u001b[1;33m(\u001b[0m\u001b[0mvalue\u001b[0m \u001b[1;33m==\u001b[0m \u001b[1;36m0\u001b[0m\u001b[1;33m)\u001b[0m\u001b[1;33m:\u001b[0m\u001b[1;33m\u001b[0m\u001b[0m\n\u001b[1;32m--> 240\u001b[1;33m                         \u001b[0mself\u001b[0m\u001b[1;33m.\u001b[0m\u001b[0m_pwm\u001b[0m\u001b[1;33m.\u001b[0m\u001b[0msetPWM\u001b[0m\u001b[1;33m(\u001b[0m\u001b[0mpin\u001b[0m\u001b[1;33m,\u001b[0m \u001b[1;36m0\u001b[0m\u001b[1;33m,\u001b[0m \u001b[1;36m4096\u001b[0m\u001b[1;33m)\u001b[0m\u001b[1;33m\u001b[0m\u001b[0m\n\u001b[0m\u001b[0;32m    241\u001b[0m                 \u001b[1;32mif\u001b[0m \u001b[1;33m(\u001b[0m\u001b[0mvalue\u001b[0m \u001b[1;33m==\u001b[0m \u001b[1;36m1\u001b[0m\u001b[1;33m)\u001b[0m\u001b[1;33m:\u001b[0m\u001b[1;33m\u001b[0m\u001b[0m\n\u001b[0;32m    242\u001b[0m                         \u001b[0mself\u001b[0m\u001b[1;33m.\u001b[0m\u001b[0m_pwm\u001b[0m\u001b[1;33m.\u001b[0m\u001b[0msetPWM\u001b[0m\u001b[1;33m(\u001b[0m\u001b[0mpin\u001b[0m\u001b[1;33m,\u001b[0m \u001b[1;36m4096\u001b[0m\u001b[1;33m,\u001b[0m \u001b[1;36m0\u001b[0m\u001b[1;33m)\u001b[0m\u001b[1;33m\u001b[0m\u001b[0m\n",
      "\u001b[1;32m/home/pi/adafruit-motor-hat-python-library/Adafruit_MotorHAT/Adafruit_PWM_Servo_Driver.pyc\u001b[0m in \u001b[0;36msetPWM\u001b[1;34m(self, channel, on, off)\u001b[0m\n\u001b[0;32m     80\u001b[0m   \u001b[1;32mdef\u001b[0m \u001b[0msetPWM\u001b[0m\u001b[1;33m(\u001b[0m\u001b[0mself\u001b[0m\u001b[1;33m,\u001b[0m \u001b[0mchannel\u001b[0m\u001b[1;33m,\u001b[0m \u001b[0mon\u001b[0m\u001b[1;33m,\u001b[0m \u001b[0moff\u001b[0m\u001b[1;33m)\u001b[0m\u001b[1;33m:\u001b[0m\u001b[1;33m\u001b[0m\u001b[0m\n\u001b[0;32m     81\u001b[0m     \u001b[1;34m\"Sets a single PWM channel\"\u001b[0m\u001b[1;33m\u001b[0m\u001b[0m\n\u001b[1;32m---> 82\u001b[1;33m     \u001b[0mself\u001b[0m\u001b[1;33m.\u001b[0m\u001b[0mi2c\u001b[0m\u001b[1;33m.\u001b[0m\u001b[0mwrite8\u001b[0m\u001b[1;33m(\u001b[0m\u001b[0mself\u001b[0m\u001b[1;33m.\u001b[0m\u001b[0m__LED0_ON_L\u001b[0m\u001b[1;33m+\u001b[0m\u001b[1;36m4\u001b[0m\u001b[1;33m*\u001b[0m\u001b[0mchannel\u001b[0m\u001b[1;33m,\u001b[0m \u001b[0mon\u001b[0m \u001b[1;33m&\u001b[0m \u001b[1;36m0xFF\u001b[0m\u001b[1;33m)\u001b[0m\u001b[1;33m\u001b[0m\u001b[0m\n\u001b[0m\u001b[0;32m     83\u001b[0m     \u001b[0mself\u001b[0m\u001b[1;33m.\u001b[0m\u001b[0mi2c\u001b[0m\u001b[1;33m.\u001b[0m\u001b[0mwrite8\u001b[0m\u001b[1;33m(\u001b[0m\u001b[0mself\u001b[0m\u001b[1;33m.\u001b[0m\u001b[0m__LED0_ON_H\u001b[0m\u001b[1;33m+\u001b[0m\u001b[1;36m4\u001b[0m\u001b[1;33m*\u001b[0m\u001b[0mchannel\u001b[0m\u001b[1;33m,\u001b[0m \u001b[0mon\u001b[0m \u001b[1;33m>>\u001b[0m \u001b[1;36m8\u001b[0m\u001b[1;33m)\u001b[0m\u001b[1;33m\u001b[0m\u001b[0m\n\u001b[0;32m     84\u001b[0m     \u001b[0mself\u001b[0m\u001b[1;33m.\u001b[0m\u001b[0mi2c\u001b[0m\u001b[1;33m.\u001b[0m\u001b[0mwrite8\u001b[0m\u001b[1;33m(\u001b[0m\u001b[0mself\u001b[0m\u001b[1;33m.\u001b[0m\u001b[0m__LED0_OFF_L\u001b[0m\u001b[1;33m+\u001b[0m\u001b[1;36m4\u001b[0m\u001b[1;33m*\u001b[0m\u001b[0mchannel\u001b[0m\u001b[1;33m,\u001b[0m \u001b[0moff\u001b[0m \u001b[1;33m&\u001b[0m \u001b[1;36m0xFF\u001b[0m\u001b[1;33m)\u001b[0m\u001b[1;33m\u001b[0m\u001b[0m\n",
      "\u001b[1;32m/home/pi/adafruit-motor-hat-python-library/Adafruit_MotorHAT/Adafruit_I2C.pyc\u001b[0m in \u001b[0;36mwrite8\u001b[1;34m(self, reg, value)\u001b[0m\n\u001b[0;32m     61\u001b[0m     \u001b[1;34m\"Writes an 8-bit value to the specified register/address\"\u001b[0m\u001b[1;33m\u001b[0m\u001b[0m\n\u001b[0;32m     62\u001b[0m     \u001b[1;32mtry\u001b[0m\u001b[1;33m:\u001b[0m\u001b[1;33m\u001b[0m\u001b[0m\n\u001b[1;32m---> 63\u001b[1;33m       \u001b[0mself\u001b[0m\u001b[1;33m.\u001b[0m\u001b[0mbus\u001b[0m\u001b[1;33m.\u001b[0m\u001b[0mwrite_byte_data\u001b[0m\u001b[1;33m(\u001b[0m\u001b[0mself\u001b[0m\u001b[1;33m.\u001b[0m\u001b[0maddress\u001b[0m\u001b[1;33m,\u001b[0m \u001b[0mreg\u001b[0m\u001b[1;33m,\u001b[0m \u001b[0mvalue\u001b[0m\u001b[1;33m)\u001b[0m\u001b[1;33m\u001b[0m\u001b[0m\n\u001b[0m\u001b[0;32m     64\u001b[0m       \u001b[1;32mif\u001b[0m \u001b[0mself\u001b[0m\u001b[1;33m.\u001b[0m\u001b[0mdebug\u001b[0m\u001b[1;33m:\u001b[0m\u001b[1;33m\u001b[0m\u001b[0m\n\u001b[0;32m     65\u001b[0m         \u001b[1;32mprint\u001b[0m \u001b[1;34m\"I2C: Wrote 0x%02X to register 0x%02X\"\u001b[0m \u001b[1;33m%\u001b[0m \u001b[1;33m(\u001b[0m\u001b[0mvalue\u001b[0m\u001b[1;33m,\u001b[0m \u001b[0mreg\u001b[0m\u001b[1;33m)\u001b[0m\u001b[1;33m\u001b[0m\u001b[0m\n",
      "\u001b[1;31mKeyboardInterrupt\u001b[0m: "
     ]
    }
   ],
   "source": [
    "# 각 회전 스타일 \n",
    "while (20):\n",
    "\tprint(\"Single coil steps\")\n",
    "\tmyStepper.step(200, Adafruit_MotorHAT.FORWARD,  Adafruit_MotorHAT.SINGLE)\n",
    "\tmyStepper.step(200, Adafruit_MotorHAT.BACKWARD,  Adafruit_MotorHAT.SINGLE)\n",
    "\tprint(\"Double coil steps\")\n",
    "\tmyStepper.step(200, Adafruit_MotorHAT.FORWARD,  Adafruit_MotorHAT.DOUBLE)\n",
    "\tmyStepper.step(200, Adafruit_MotorHAT.BACKWARD, Adafruit_MotorHAT.DOUBLE)\n",
    "\tprint(\"Interleaved coil steps\")\n",
    "\tmyStepper.step(200, Adafruit_MotorHAT.FORWARD,  Adafruit_MotorHAT.INTERLEAVE)\n",
    "\tmyStepper.step(200, Adafruit_MotorHAT.BACKWARD, Adafruit_MotorHAT.INTERLEAVE)\n",
    "\tprint(\"Microsteps\")\n",
    "\tmyStepper.step(200, Adafruit_MotorHAT.FORWARD, Adafruit_MotorHAT.MICROSTEP)\n",
    "\tmyStepper.step(200, Adafruit_MotorHAT.BACKWARD, Adafruit_MotorHAT.MICROSTEP)"
   ]
  }
 ],
 "metadata": {
  "kernelspec": {
   "display_name": "Python 2",
   "language": "python",
   "name": "python2"
  },
  "language_info": {
   "codemirror_mode": {
    "name": "ipython",
    "version": 2
   },
   "file_extension": ".py",
   "mimetype": "text/x-python",
   "name": "python",
   "nbconvert_exporter": "python",
   "pygments_lexer": "ipython2",
   "version": "2.7.9"
  }
 },
 "nbformat": 4,
 "nbformat_minor": 0
}
