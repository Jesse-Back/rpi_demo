{
 "cells": [
  {
   "cell_type": "code",
   "execution_count": 1,
   "metadata": {
    "collapsed": true
   },
   "outputs": [],
   "source": [
    "# 라이브러리 import\n",
    "from Adafruit_MotorHAT import Adafruit_MotorHAT, Adafruit_DCMotor\n",
    "import time\n",
    "import atexit"
   ]
  },
  {
   "cell_type": "code",
   "execution_count": 2,
   "metadata": {
    "collapsed": true
   },
   "outputs": [],
   "source": [
    "# 기본 객체 생성, 연결하면 기본 주소값은 0x60 이며 주파수 기본값은 1600이다\n",
    "# 이전에  0x60 0x70 두개가 인식되었었는데 60은 장치에 대한 unique한 값이고\n",
    "# 70은 연결전체를 제어하기 위한 값이다(여러 모듈을 연결할 경우)\n",
    "mh = Adafruit_MotorHAT(addr=0x60,freq=1600)"
   ]
  },
  {
   "cell_type": "code",
   "execution_count": 3,
   "metadata": {
    "collapsed": false
   },
   "outputs": [
    {
     "data": {
      "text/plain": [
       "<function __main__.turnOffMotors>"
      ]
     },
     "execution_count": 3,
     "metadata": {},
     "output_type": "execute_result"
    }
   ],
   "source": [
    "# DC모터만 연결할 경우 총 4개를 연결 할 수 있는데 연결 방법은\n",
    "# Github의 이미지를 참조하기 바란다.\n",
    "# 좌측2개부터 1,2,3,4 번으로 제어 할 수 있다.\n",
    "# 한 블럭의 소켓들 중 가운데 소켓은 사용하지 않는다\n",
    "# 아래는 DC모터의 경우 코드가 종료되더라도 지속되기 때문에 \n",
    "# 코드가 종료 되었을 때 정지시키위한 코드이다\n",
    "def turnOffMotors():\n",
    "\tmh.getMotor(1).run(Adafruit_MotorHAT.RELEASE)\n",
    "\tmh.getMotor(2).run(Adafruit_MotorHAT.RELEASE)\n",
    "\tmh.getMotor(3).run(Adafruit_MotorHAT.RELEASE)\n",
    "\tmh.getMotor(4).run(Adafruit_MotorHAT.RELEASE)\n",
    "atexit.register(turnOffMotors)"
   ]
  },
  {
   "cell_type": "code",
   "execution_count": 4,
   "metadata": {
    "collapsed": true
   },
   "outputs": [],
   "source": [
    "# 3번에 대한 객체 생성(3번 모터와 연결)\n",
    "DC_mot = mh.getMotor(3)"
   ]
  },
  {
   "cell_type": "code",
   "execution_count": 5,
   "metadata": {
    "collapsed": true
   },
   "outputs": [],
   "source": [
    "# 속도 설정, 0~255 값을 가질 수 있다.\n",
    "DC_mot.setSpeed(100)"
   ]
  },
  {
   "cell_type": "code",
   "execution_count": 6,
   "metadata": {
    "collapsed": false
   },
   "outputs": [],
   "source": [
    "# 모터 제어 회전방향 Foward 방향\n",
    "DC_mot.run(Adafruit_MotorHAT.FORWARD)"
   ]
  },
  {
   "cell_type": "code",
   "execution_count": 7,
   "metadata": {
    "collapsed": true
   },
   "outputs": [],
   "source": [
    "# 모터 제어 회전방향 Foward 방향\n",
    "DC_mot.run(Adafruit_MotorHAT.BACKWARD)"
   ]
  },
  {
   "cell_type": "code",
   "execution_count": 8,
   "metadata": {
    "collapsed": false
   },
   "outputs": [],
   "source": [
    "# 모터 제어 정지\n",
    "DC_mot.run(Adafruit_MotorHAT.RELEASE)"
   ]
  },
  {
   "cell_type": "code",
   "execution_count": 9,
   "metadata": {
    "collapsed": false
   },
   "outputs": [
    {
     "name": "stdout",
     "output_type": "stream",
     "text": [
      "Forward! \n",
      "\tSpeed up...\n",
      "\tSlow down...\n",
      "Backward! \n",
      "\tSpeed up...\n",
      "\tSlow down...\n",
      "Release\n",
      "Forward! \n",
      "\tSpeed up...\n",
      "\tSlow down...\n",
      "Backward! \n",
      "\tSpeed up...\n",
      "\tSlow down...\n",
      "Release\n",
      "Forward! \n",
      "\tSpeed up...\n",
      "\tSlow down...\n"
     ]
    },
    {
     "ename": "KeyboardInterrupt",
     "evalue": "",
     "output_type": "error",
     "traceback": [
      "\u001b[1;31m---------------------------------------------------------------------------\u001b[0m",
      "\u001b[1;31mKeyboardInterrupt\u001b[0m                         Traceback (most recent call last)",
      "\u001b[1;32m<ipython-input-9-5f3f4daa752e>\u001b[0m in \u001b[0;36m<module>\u001b[1;34m()\u001b[0m\n\u001b[0;32m     13\u001b[0m         \u001b[1;32mfor\u001b[0m \u001b[0mi\u001b[0m \u001b[1;32min\u001b[0m \u001b[0mreversed\u001b[0m\u001b[1;33m(\u001b[0m\u001b[0mrange\u001b[0m\u001b[1;33m(\u001b[0m\u001b[1;36m255\u001b[0m\u001b[1;33m)\u001b[0m\u001b[1;33m)\u001b[0m\u001b[1;33m:\u001b[0m\u001b[1;33m\u001b[0m\u001b[0m\n\u001b[0;32m     14\u001b[0m             \u001b[0mDC_mot\u001b[0m\u001b[1;33m.\u001b[0m\u001b[0msetSpeed\u001b[0m\u001b[1;33m(\u001b[0m\u001b[0mi\u001b[0m\u001b[1;33m)\u001b[0m\u001b[1;33m\u001b[0m\u001b[0m\n\u001b[1;32m---> 15\u001b[1;33m             \u001b[0mtime\u001b[0m\u001b[1;33m.\u001b[0m\u001b[0msleep\u001b[0m\u001b[1;33m(\u001b[0m\u001b[1;36m0.01\u001b[0m\u001b[1;33m)\u001b[0m\u001b[1;33m\u001b[0m\u001b[0m\n\u001b[0m\u001b[0;32m     16\u001b[0m         \u001b[1;31m#방향 변경\u001b[0m\u001b[1;33m\u001b[0m\u001b[1;33m\u001b[0m\u001b[0m\n\u001b[0;32m     17\u001b[0m         \u001b[1;32mprint\u001b[0m \u001b[1;34m\"Backward! \"\u001b[0m\u001b[1;33m\u001b[0m\u001b[0m\n",
      "\u001b[1;31mKeyboardInterrupt\u001b[0m: "
     ]
    }
   ],
   "source": [
    "try : \n",
    "    while (True):\n",
    "        print \"Forward! \"\n",
    "        DC_mot.run(Adafruit_MotorHAT.FORWARD)\n",
    "\n",
    "        print \"\\tSpeed up...\"\n",
    "        #0.01 초단위로 속도 증가 \n",
    "        for i in range(255):\n",
    "            DC_mot.setSpeed(i)\n",
    "            time.sleep(0.01)\n",
    "        #0.01 초단위로 속도 증가 \n",
    "        print \"\\tSlow down...\"\n",
    "        for i in reversed(range(255)):\n",
    "            DC_mot.setSpeed(i)\n",
    "            time.sleep(0.01)\n",
    "        #방향 변경\n",
    "        print \"Backward! \"\n",
    "        DC_mot.run(Adafruit_MotorHAT.BACKWARD)\n",
    "\n",
    "        print \"\\tSpeed up...\"\n",
    "        for i in range(255):\n",
    "            DC_mot.setSpeed(i)\n",
    "            time.sleep(0.01)\n",
    "\n",
    "        print \"\\tSlow down...\"\n",
    "        for i in reversed(range(255)):\n",
    "            DC_mot.setSpeed(i)\n",
    "            time.sleep(0.01)\n",
    "        # 1초간 정지 \n",
    "        print \"Release\"\n",
    "        DC_mot.run(Adafruit_MotorHAT.RELEASE)\n",
    "        time.sleep(1.0)\n",
    "finally:\n",
    "    DC_mot.run(Adafruit_MotorHAT.RELEASE)"
   ]
  },
  {
   "cell_type": "code",
   "execution_count": null,
   "metadata": {
    "collapsed": true
   },
   "outputs": [],
   "source": []
  }
 ],
 "metadata": {
  "kernelspec": {
   "display_name": "Python 2",
   "language": "python",
   "name": "python2"
  },
  "language_info": {
   "codemirror_mode": {
    "name": "ipython",
    "version": 2
   },
   "file_extension": ".py",
   "mimetype": "text/x-python",
   "name": "python",
   "nbconvert_exporter": "python",
   "pygments_lexer": "ipython2",
   "version": "2.7.9"
  }
 },
 "nbformat": 4,
 "nbformat_minor": 0
}
